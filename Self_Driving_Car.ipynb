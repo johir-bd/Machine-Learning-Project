{
  "cells": [
    {
      "cell_type": "markdown",
      "metadata": {
        "id": "view-in-github",
        "colab_type": "text"
      },
      "source": [
        "<a href=\"https://colab.research.google.com/github/johir-bd/Machine-Learning-Project/blob/master/Self_Driving_Car.ipynb\" target=\"_parent\"><img src=\"https://colab.research.google.com/assets/colab-badge.svg\" alt=\"Open In Colab\"/></a>"
      ]
    },
    {
      "cell_type": "code",
      "source": [
        "import random\n",
        "import time\n",
        "\n",
        "class SelfDrivingCar:\n",
        "    def __init__(self):\n",
        "        self.speed = 0  # in km/h\n",
        "        self.distance_to_obstacle = 100  # distance to nearest obstacle in meters\n",
        "\n",
        "    def sense_environment(self):\n",
        "        \"\"\" Simulate sensing the environment \"\"\"\n",
        "        # Randomly change distance to obstacle\n",
        "        self.distance_to_obstacle = random.randint(20, 100)\n",
        "\n",
        "    def decide_speed(self):\n",
        "        \"\"\" Basic decision-making: adjust speed based on obstacle distance \"\"\"\n",
        "        if self.distance_to_obstacle < 30:\n",
        "            self.speed = 0  # Stop if too close to an obstacle\n",
        "            return \"Obstacle detected! Stopping the car.\"\n",
        "        elif 30 <= self.distance_to_obstacle < 60:\n",
        "            self.speed = 30  # Slow down\n",
        "            return \"Obstacle ahead! Slowing down.\"\n",
        "        else:\n",
        "            self.speed = 60  # Drive at normal speed\n",
        "            return \"All clear! Driving at normal speed.\"\n",
        "\n",
        "    def drive(self, iterations=10):\n",
        "        \"\"\" Simulate driving decision-making for a number of iterations \"\"\"\n",
        "        output = []\n",
        "        for _ in range(iterations):\n",
        "            self.sense_environment()\n",
        "            decision = self.decide_speed()\n",
        "            output.append(f\"Current speed: {self.speed} km/h, Distance to obstacle: {self.distance_to_obstacle} meters. {decision}\")\n",
        "            time.sleep(0.5)  # Slow down output for readability\n",
        "        return output\n",
        "\n",
        "# Run the simulation\n",
        "car = SelfDrivingCar()\n",
        "results = car.drive(iterations=10)\n",
        "\n",
        "# Print results\n",
        "for result in results:\n",
        "    print(result)"
      ],
      "metadata": {
        "colab": {
          "base_uri": "https://localhost:8080/"
        },
        "id": "r48Xk06HETw6",
        "outputId": "a182ce99-7eb1-4949-9d9e-5178791f5125"
      },
      "execution_count": 1,
      "outputs": [
        {
          "output_type": "stream",
          "name": "stdout",
          "text": [
            "Current speed: 60 km/h, Distance to obstacle: 78 meters. All clear! Driving at normal speed.\n",
            "Current speed: 30 km/h, Distance to obstacle: 37 meters. Obstacle ahead! Slowing down.\n",
            "Current speed: 60 km/h, Distance to obstacle: 96 meters. All clear! Driving at normal speed.\n",
            "Current speed: 60 km/h, Distance to obstacle: 96 meters. All clear! Driving at normal speed.\n",
            "Current speed: 60 km/h, Distance to obstacle: 76 meters. All clear! Driving at normal speed.\n",
            "Current speed: 30 km/h, Distance to obstacle: 32 meters. Obstacle ahead! Slowing down.\n",
            "Current speed: 60 km/h, Distance to obstacle: 80 meters. All clear! Driving at normal speed.\n",
            "Current speed: 60 km/h, Distance to obstacle: 86 meters. All clear! Driving at normal speed.\n",
            "Current speed: 30 km/h, Distance to obstacle: 58 meters. Obstacle ahead! Slowing down.\n",
            "Current speed: 60 km/h, Distance to obstacle: 96 meters. All clear! Driving at normal speed.\n"
          ]
        }
      ]
    }
  ],
  "metadata": {
    "accelerator": "GPU",
    "colab": {
      "gpuType": "T4",
      "provenance": [],
      "authorship_tag": "ABX9TyP3IJfckfQG9n00dp9qccIX",
      "include_colab_link": true
    },
    "kernelspec": {
      "display_name": "Python 3",
      "name": "python3"
    },
    "language_info": {
      "name": "python"
    }
  },
  "nbformat": 4,
  "nbformat_minor": 0
}