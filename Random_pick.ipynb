{
  "cells": [
    {
      "cell_type": "markdown",
      "metadata": {
        "id": "view-in-github",
        "colab_type": "text"
      },
      "source": [
        "<a href=\"https://colab.research.google.com/github/johir-bd/Machine-Learning-Project/blob/master/Random_pick.ipynb\" target=\"_parent\"><img src=\"https://colab.research.google.com/assets/colab-badge.svg\" alt=\"Open In Colab\"/></a>"
      ]
    },
    {
      "cell_type": "markdown",
      "source": [
        "QR CODE GENERATOR"
      ],
      "metadata": {
        "id": "XDTw1cwYyotv"
      }
    },
    {
      "cell_type": "code",
      "source": [
        "!pip install qrcode\n",
        "import qrcode\n",
        "qr = qrcode.QRCode(\n",
        "    version=1,\n",
        "    error_correction=qrcode.constants.ERROR_CORRECT_L,\n",
        "    box_size=10,\n",
        "    border=4,\n",
        ")\n",
        "qr.add_data('https://www.youtube.com/watch?v=dQw4w9WgXcQ')\n",
        "qr.make(fit=True)\n",
        "img = qr.make_image(fill_color=\"black\", back_color=\"white\")\n",
        "img.save(\"youtube.png\")\n"
      ],
      "metadata": {
        "colab": {
          "base_uri": "https://localhost:8080/"
        },
        "id": "nxtc_J_fCmz5",
        "outputId": "06c67688-8e06-46a6-bec3-c21939bc3941"
      },
      "execution_count": 5,
      "outputs": [
        {
          "output_type": "stream",
          "name": "stdout",
          "text": [
            "Requirement already satisfied: qrcode in /usr/local/lib/python3.10/dist-packages (8.0)\n"
          ]
        }
      ]
    },
    {
      "cell_type": "markdown",
      "source": [
        "Defang IP Address"
      ],
      "metadata": {
        "id": "sOH3lWJIy01M"
      }
    },
    {
      "cell_type": "code",
      "source": [
        "def ip_address(address):\n",
        "  new_address = address.split('.')\n",
        "  new_address.reverse()\n",
        "  new_address = '.'.join(new_address)\n",
        "  return new_address\n",
        "IPad = input('Enter IP Address: ')\n",
        "print(ip_address(IPad))\n",
        "\n",
        "#ip_address('127.0.0.1')"
      ],
      "metadata": {
        "colab": {
          "base_uri": "https://localhost:8080/"
        },
        "id": "u5inCRUwlBkN",
        "outputId": "a44f2fe0-e05a-465f-a466-23f5bf2185d8"
      },
      "execution_count": 3,
      "outputs": [
        {
          "output_type": "stream",
          "name": "stdout",
          "text": [
            "Enter IP Address: 192.168.120.12\n",
            "12.120.168.192\n"
          ]
        }
      ]
    },
    {
      "cell_type": "markdown",
      "source": [
        "Password Authentication"
      ],
      "metadata": {
        "id": "Ps5drQ9_zGZy"
      }
    },
    {
      "cell_type": "code",
      "source": [
        "import getpass\n",
        "database = {\"cloding\": \"976729\", \"pythoncloding\": \"2502\"}\n",
        "username = input(\"Enter Username: \")\n",
        "password = getpass.getpass(\"Enter Password: \")\n",
        "for i in database.keys():\n",
        "  if username == i:\n",
        "    while password != database.get(i):\n",
        "      password = getpass.getpass(\"Enter Password Again: \")\n",
        "      break\n",
        "print(\"Verified\")\n",
        ""
      ],
      "metadata": {
        "colab": {
          "base_uri": "https://localhost:8080/"
        },
        "id": "cw7g5wpcmnvj",
        "outputId": "ce98c692-25d6-49a7-e2d2-0c2e64a33af1"
      },
      "execution_count": 5,
      "outputs": [
        {
          "output_type": "stream",
          "name": "stdout",
          "text": [
            "Enter Username: cloding\n",
            "Enter Password: ··········\n",
            "Enter Password Again: ··········\n",
            "Verified\n"
          ]
        }
      ]
    },
    {
      "cell_type": "markdown",
      "source": [
        "Extract Text from PDF with Python"
      ],
      "metadata": {
        "id": "h6rZEgSBo5l3"
      }
    },
    {
      "cell_type": "code",
      "source": [
        "#!pip install PyPDF2\n",
        "\n",
        "import PyPDF2\n",
        "\n",
        "# Open the PDF file in read-binary mode\n",
        "pdf = open('/content/Skills.pdf', 'rb')\n",
        "\n",
        "# Create a PdfReader object\n",
        "reader = PyPDF2.PdfReader(pdf)\n",
        "\n",
        "# Get the first page (page 0)\n",
        "page = reader.pages[0]\n",
        "\n",
        "# Extract text from the page\n",
        "print(page.extract_text())\n",
        "print(len(page))  # Number of pages in the PDF\n",
        "\n"
      ],
      "metadata": {
        "colab": {
          "base_uri": "https://localhost:8080/"
        },
        "id": "u_fBfPMywZs2",
        "outputId": "a5ddbe8d-86ef-475b-a59a-fb272323d83a"
      },
      "execution_count": 27,
      "outputs": [
        {
          "output_type": "stream",
          "name": "stdout",
          "text": [
            "Skills:  \n",
            " Python Programming : Extensive experience in writing clean, optimized Python code \n",
            "for machine learning, NLP, and data processing.  \n",
            " Natural Language Processing (NLP) : Skilled in text analysis, sentiment analysis, \n",
            "named entity recognition (NER), and text classification using frameworks like spaCy and \n",
            "NLTK.  \n",
            " Machine Learning : Expertise in building ML models using scikit -learn, TensorFlow, \n",
            "and Keras for classification, re gression, and clustering tasks.  \n",
            " LangChain & Large Language Models (LLM) : Experienced in developing workflows \n",
            "using the LangChain framework and integrating LLMs for generative AI tasks.  \n",
            " API Integration : Proficient in integrating third -party APIs such as Ope nAI, Hugging \n",
            "Face, and Google Gemini for NLP tasks.  \n",
            " Data Preprocessing : Expertise in data cleaning, feature extraction, and transformation \n",
            "techniques to prepare datasets for ML models.  \n",
            " Prompt Engineering : Skilled in optimizing and engineering effective pro mpts to \n",
            "generate better responses from AI models like ChatGPT or Google Gemini.  \n",
            " Git Version Control : Comfortable working with Git for version control and \n",
            "collaborative software development.  \n",
            " \n",
            " \n",
            "Deliverables:  \n",
            " Fully Functional Machine Learning Model : Deliver a trained and tested ML model for  \n",
            "including all necessary code and instructions for deployment.  \n",
            " Clean and Efficient Code : Well -structured Python scripts implementing the required \n",
            "functionality, with clear comments and documentation.  \n",
            " Comprehensive Document ation : Step -by-step guide explaining how to use, modify, and \n",
            "scale the provided system.  \n",
            " API Integration Setup : Full integration of third -party APIs (e.g., OpenAI, Google \n",
            "Gemini) with tested endpoints and authentication.  \n",
            " Data Preprocessing Pipeline : A reusa ble pipeline for cleaning, transforming, and \n",
            "preparing data for future model training or analytics.  \n",
            " Thorough Testing and QA : All scripts and models will be tested with sample data to \n",
            "ensure functionality and accuracy.  \n",
            " \n",
            " \n",
            " \n",
            "8\n"
          ]
        }
      ]
    },
    {
      "cell_type": "code",
      "source": [
        "from re import search\n",
        "\n",
        "# Initialize empty lists for names and phone numbers\n",
        "names = []\n",
        "phone_numbers = []\n",
        "\n",
        "# Get the number of contacts from the user\n",
        "num = int(input(\"Enter the number of contacts: \"))\n",
        "\n",
        "# Collect the contact details\n",
        "for i in range(num):\n",
        "    name = input(\"Enter the name: \")\n",
        "    phone_number = input(\"Enter the phone number: \")\n",
        "    names.append(name)\n",
        "    phone_numbers.append(phone_number)\n",
        "\n",
        "# Print the contacts in a formatted manner\n",
        "print(\"\\nName\\t\\tPhone Number\")\n",
        "for i in range(num):\n",
        "    print(\"{}\\t\\t{}\".format(names[i], phone_numbers[i]))\n",
        "\n",
        "# Ask for a name to search\n",
        "search_term = input(\"\\nEnter the name to search: \")\n",
        "\n",
        "# Search and display results\n",
        "print(\"Search result:\")\n",
        "if search_term in names:\n",
        "    index = names.index(search_term)\n",
        "    print(\"Name: {}, Phone Number: {}\".format(names[index], phone_numbers[index]))\n",
        "else:\n",
        "    print(\"No match found for the name: {}\".format(search_term))\n"
      ],
      "metadata": {
        "colab": {
          "base_uri": "https://localhost:8080/"
        },
        "id": "sjjhkJDp_yu1",
        "outputId": "7741f417-8ea0-40d2-ac8c-064514e295bd"
      },
      "execution_count": 46,
      "outputs": [
        {
          "output_type": "stream",
          "name": "stdout",
          "text": [
            "Enter the number of contacts: 1\n",
            "Enter the name: johir\n",
            "Enter the phone number: 65656556\n",
            "\n",
            "Name\t\tPhone Number\n",
            "johir\t\t65656556\n",
            "\n",
            "Enter the name to search: helen\n",
            "Search result:\n",
            "No match found for the name: helen\n"
          ]
        }
      ]
    }
  ],
  "metadata": {
    "colab": {
      "provenance": [],
      "authorship_tag": "ABX9TyNEK9oMzpwOdHsmyBxdDJ4z",
      "include_colab_link": true
    },
    "kernelspec": {
      "display_name": "Python 3",
      "name": "python3"
    },
    "language_info": {
      "name": "python"
    }
  },
  "nbformat": 4,
  "nbformat_minor": 0
}