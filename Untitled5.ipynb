{
  "cells": [
    {
      "cell_type": "code",
      "source": [
        "import openai\n",
        "\n",
        "openai.api_key = \"sk--0rD2MoIQbaO2K_p0lQyE8QOEK-o1EsGs8ht14iBuFT3BlbkFJCFIW5oPevZly18I9OvZHv8rEoucCbRTQpcCc5V6x8A\"\n",
        "\n",
        "def translate_question(question, target_language=\"es\"):\n",
        "    prompt = f\"Translate the following question to {target_language}: {question}\"\n",
        "\n",
        "    try:\n",
        "        response = openai.ChatCompletion.create(\n",
        "            model=\"gpt-3.5-turbo\",\n",
        "            messages=[\n",
        "                {\"role\": \"system\", \"content\": \"You are a helpful assistant.\"},\n",
        "                {\"role\": \"user\", \"content\": prompt}\n",
        "            ],\n",
        "            temperature=0.7\n",
        "        )\n",
        "        return response['choices'][0]['message']['content']\n",
        "    except Exception as e:\n",
        "        print(f\"Error generating text: {str(e)}\")\n",
        "        return None\n",
        "\n",
        "# Example usage\n",
        "question = \"What is natural language processing?\"\n",
        "translated_question = translate_question(question, target_language=\"es\")\n",
        "\n",
        "if translated_question:\n",
        "    print(f\"Original Question: {question}\")\n",
        "    print(f\"Translated Question (Spanish): {translated_question}\")\n"
      ],
      "metadata": {
        "colab": {
          "base_uri": "https://localhost:8080/"
        },
        "id": "XONTX5XIfQbj",
        "outputId": "46bb802d-7276-4816-f344-f4425407d514"
      },
      "execution_count": 9,
      "outputs": [
        {
          "output_type": "stream",
          "name": "stdout",
          "text": [
            "Error generating text: \n",
            "\n",
            "You tried to access openai.ChatCompletion, but this is no longer supported in openai>=1.0.0 - see the README at https://github.com/openai/openai-python for the API.\n",
            "\n",
            "You can run `openai migrate` to automatically upgrade your codebase to use the 1.0.0 interface. \n",
            "\n",
            "Alternatively, you can pin your installation to the old version, e.g. `pip install openai==0.28`\n",
            "\n",
            "A detailed migration guide is available here: https://github.com/openai/openai-python/discussions/742\n",
            "\n"
          ]
        }
      ]
    }
  ],
  "metadata": {
    "colab": {
      "provenance": [],
      "gpuType": "T4"
    },
    "kernelspec": {
      "display_name": "Python 3",
      "name": "python3"
    },
    "language_info": {
      "name": "python"
    },
    "accelerator": "GPU"
  },
  "nbformat": 4,
  "nbformat_minor": 0
}