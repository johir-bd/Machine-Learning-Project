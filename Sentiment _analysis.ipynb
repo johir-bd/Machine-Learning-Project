{
  "cells": [
    {
      "cell_type": "markdown",
      "metadata": {
        "id": "view-in-github",
        "colab_type": "text"
      },
      "source": [
        "<a href=\"https://colab.research.google.com/github/johir-bd/Machine-Learning-Project/blob/master/Sentiment%20_analysis.ipynb\" target=\"_parent\"><img src=\"https://colab.research.google.com/assets/colab-badge.svg\" alt=\"Open In Colab\"/></a>"
      ]
    },
    {
      "cell_type": "markdown",
      "source": [
        "Sentiment Analysis of Text Using TextBlob"
      ],
      "metadata": {
        "id": "VcD0sNBBrC2Z"
      }
    },
    {
      "cell_type": "code",
      "source": [
        "#!pip install textblob\n",
        "from textblob import TextBlob\n",
        "\n",
        "from textblob import TextBlob\n",
        "\n",
        "# Sample data: a list of sentences\n",
        "sentences = [\n",
        "    \"The sunset over the ocean was absolutely breathtaking.\",\n",
        "    \"I had a terrible experience at the restaurant last night.\",\n",
        "    \"The movie was okay, but I expected more excitement.\",\n",
        "    \"She is doing an amazing job on her project!\",\n",
        "    \"I can't stand how noisy the neighbors are.\",\n",
        "    \"The service at the hotel was exceptional and friendly.\",\n",
        "    \"I'm indifferent about the new store opening downtown.\",\n",
        "    \"I love this book; it’s so engaging and well-written.\",\n",
        "    \"That was the worst concert I've ever attended.\",\n",
        "    \"The weather today is just perfect for a picnic.\",\n",
        "    \"I'm really disappointed with the quality of this product.\",\n",
        "    \"He always finds a way to make people smile.\",\n",
        "    \"This traffic is driving me crazy!\",\n",
        "    \"The team's performance was impressive and inspiring.\",\n",
        "    \"I feel neutral about the upcoming election.\",\n",
        "    \"The cake was delicious, and everyone enjoyed it.\",\n",
        "    \"I'm frustrated by the constant changes in the schedule.\",\n",
        "    \"Her art is lovely and truly inspiring.\",\n",
        "    \"The presentation was dull and failed to capture my interest.\",\n",
        "    \"I appreciate your help on this project.\"\n",
        "]\n",
        "\n",
        "# Function to analyze sentiment\n",
        "def analyze_sentiment(sentences):\n",
        "    for sentence in sentences:\n",
        "        # Create a TextBlob object\n",
        "        blob = TextBlob(sentence)\n",
        "\n",
        "        # Get the sentiment polarity\n",
        "        polarity = blob.sentiment.polarity\n",
        "\n",
        "        # Determine sentiment category based on polarity\n",
        "        if polarity > 0:\n",
        "            sentiment = \"Positive\"\n",
        "        elif polarity < 0:\n",
        "            sentiment = \"Negative\"\n",
        "        else:\n",
        "            sentiment = \"Neutral\"\n",
        "\n",
        "        # Print the sentence and its sentiment\n",
        "        print(f\"Sentence: {sentence}\\nSentiment: {sentiment} (Polarity: {polarity})\\n\")\n",
        "\n",
        "# Run sentiment analysis\n",
        "analyze_sentiment(sentences)"
      ],
      "metadata": {
        "colab": {
          "base_uri": "https://localhost:8080/"
        },
        "id": "ltJO-qWYU8pR",
        "outputId": "2b7dcd3d-90ea-459f-dd2a-77bdf960da56"
      },
      "execution_count": 1,
      "outputs": [
        {
          "output_type": "stream",
          "name": "stdout",
          "text": [
            "Sentence: The sunset over the ocean was absolutely breathtaking.\n",
            "Sentiment: Positive (Polarity: 1.0)\n",
            "\n",
            "Sentence: I had a terrible experience at the restaurant last night.\n",
            "Sentiment: Negative (Polarity: -0.5)\n",
            "\n",
            "Sentence: The movie was okay, but I expected more excitement.\n",
            "Sentiment: Positive (Polarity: 0.3)\n",
            "\n",
            "Sentence: She is doing an amazing job on her project!\n",
            "Sentiment: Positive (Polarity: 0.7500000000000001)\n",
            "\n",
            "Sentence: I can't stand how noisy the neighbors are.\n",
            "Sentiment: Neutral (Polarity: 0.0)\n",
            "\n",
            "Sentence: The service at the hotel was exceptional and friendly.\n",
            "Sentiment: Positive (Polarity: 0.5208333333333333)\n",
            "\n",
            "Sentence: I'm indifferent about the new store opening downtown.\n",
            "Sentiment: Positive (Polarity: 0.13636363636363635)\n",
            "\n",
            "Sentence: I love this book; it’s so engaging and well-written.\n",
            "Sentiment: Positive (Polarity: 0.45)\n",
            "\n",
            "Sentence: That was the worst concert I've ever attended.\n",
            "Sentiment: Negative (Polarity: -1.0)\n",
            "\n",
            "Sentence: The weather today is just perfect for a picnic.\n",
            "Sentiment: Positive (Polarity: 1.0)\n",
            "\n",
            "Sentence: I'm really disappointed with the quality of this product.\n",
            "Sentiment: Negative (Polarity: -0.75)\n",
            "\n",
            "Sentence: He always finds a way to make people smile.\n",
            "Sentiment: Positive (Polarity: 0.3)\n",
            "\n",
            "Sentence: This traffic is driving me crazy!\n",
            "Sentiment: Negative (Polarity: -0.75)\n",
            "\n",
            "Sentence: The team's performance was impressive and inspiring.\n",
            "Sentiment: Positive (Polarity: 0.75)\n",
            "\n",
            "Sentence: I feel neutral about the upcoming election.\n",
            "Sentiment: Neutral (Polarity: 0.0)\n",
            "\n",
            "Sentence: The cake was delicious, and everyone enjoyed it.\n",
            "Sentiment: Positive (Polarity: 0.75)\n",
            "\n",
            "Sentence: I'm frustrated by the constant changes in the schedule.\n",
            "Sentiment: Negative (Polarity: -0.35)\n",
            "\n",
            "Sentence: Her art is lovely and truly inspiring.\n",
            "Sentiment: Positive (Polarity: 0.5)\n",
            "\n",
            "Sentence: The presentation was dull and failed to capture my interest.\n",
            "Sentiment: Negative (Polarity: -0.39583333333333337)\n",
            "\n",
            "Sentence: I appreciate your help on this project.\n",
            "Sentiment: Neutral (Polarity: 0.0)\n",
            "\n"
          ]
        }
      ]
    }
  ],
  "metadata": {
    "colab": {
      "provenance": [],
      "gpuType": "T4",
      "authorship_tag": "ABX9TyNV/GCbCJ2d3pceZ049Pz1D",
      "include_colab_link": true
    },
    "kernelspec": {
      "display_name": "Python 3",
      "name": "python3"
    },
    "language_info": {
      "name": "python"
    },
    "accelerator": "GPU"
  },
  "nbformat": 4,
  "nbformat_minor": 0
}