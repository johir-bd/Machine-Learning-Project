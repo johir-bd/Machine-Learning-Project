{
  "cells": [
    {
      "cell_type": "markdown",
      "metadata": {
        "id": "view-in-github",
        "colab_type": "text"
      },
      "source": [
        "<a href=\"https://colab.research.google.com/github/johir-bd/Machine-Learning-Project/blob/master/Question%20App.ipynb\" target=\"_parent\"><img src=\"https://colab.research.google.com/assets/colab-badge.svg\" alt=\"Open In Colab\"/></a>"
      ]
    },
    {
      "cell_type": "code",
      "execution_count": null,
      "metadata": {
        "colab": {
          "base_uri": "https://localhost:8080/"
        },
        "id": "SWC-KeLTe-LY",
        "outputId": "5f337849-7390-4939-b2d0-383e0ed5c1da"
      },
      "outputs": [
        {
          "name": "stdout",
          "output_type": "stream",
          "text": [
            "Overwriting app.py\n"
          ]
        }
      ],
      "source": [
        "%%writefile app.py\n",
        "import streamlit as st\n",
        "from langchain_groq import ChatGroq\n",
        "\n",
        "# Streamlit app title\n",
        "st.title(\"জিজ্ঞাসা App\")\n",
        "\n",
        "# Create input field for the user to ask a question\n",
        "user_input = st.text_input(\"Enter your question or request\", \"\")\n",
        "\n",
        "# Set up the LLM (Llama 3.1) from langchain_groq\n",
        "llm = ChatGroq(\n",
        "    model=\"llama-3.1-70b-versatile\",\n",
        "    temperature=0,\n",
        "    groq_api_key=\"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\"\n",
        ")\n",
        "\n",
        "# Check if the user has entered a question\n",
        "if user_input:\n",
        "    # Invoke the model with the user's input\n",
        "    response = llm.invoke(user_input)\n",
        "\n",
        "    # Display the response in the Streamlit app\n",
        "    st.write(\"উত্তর:\")\n",
        "    st.write(response.content)\n",
        "\n",
        "# Start the Streamlit app\n",
        "if __name__ == '__main__':\n",
        "    st.write(\"Ask a question above and receive a response!\")\n"
      ]
    }
  ],
  "metadata": {
    "colab": {
      "provenance": [],
      "authorship_tag": "ABX9TyPeKpW6vcb/L59BqiVMOeuZ",
      "include_colab_link": true
    },
    "kernelspec": {
      "display_name": "Python 3",
      "name": "python3"
    },
    "language_info": {
      "name": "python"
    }
  },
  "nbformat": 4,
  "nbformat_minor": 0
}